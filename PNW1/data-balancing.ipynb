{
 "cells": [
  {
   "cell_type": "code",
   "execution_count": 43,
   "metadata": {},
   "outputs": [],
   "source": [
    "import pandas as pd\n",
    "from imblearn.under_sampling import RandomUnderSampler"
   ]
  },
  {
   "cell_type": "code",
   "execution_count": 36,
   "metadata": {},
   "outputs": [],
   "source": [
    "df = pd.read_parquet('data/bert_embeddings.parquet')"
   ]
  },
  {
   "cell_type": "code",
   "execution_count": 37,
   "metadata": {},
   "outputs": [
    {
     "data": {
      "text/html": [
       "<div>\n",
       "<style scoped>\n",
       "    .dataframe tbody tr th:only-of-type {\n",
       "        vertical-align: middle;\n",
       "    }\n",
       "\n",
       "    .dataframe tbody tr th {\n",
       "        vertical-align: top;\n",
       "    }\n",
       "\n",
       "    .dataframe thead th {\n",
       "        text-align: right;\n",
       "    }\n",
       "</style>\n",
       "<table border=\"1\" class=\"dataframe\">\n",
       "  <thead>\n",
       "    <tr style=\"text-align: right;\">\n",
       "      <th></th>\n",
       "      <th>label</th>\n",
       "      <th>subject</th>\n",
       "      <th>email_to</th>\n",
       "      <th>email_from</th>\n",
       "      <th>embedding</th>\n",
       "    </tr>\n",
       "  </thead>\n",
       "  <tbody>\n",
       "    <tr>\n",
       "      <th>0</th>\n",
       "      <td>1</td>\n",
       "      <td>Generic Cialis, branded quality@</td>\n",
       "      <td>the00@speedy.uwaterloo.ca</td>\n",
       "      <td>\"Tomas Jacobs\" &lt;RickyAmes@aol.com&gt;</td>\n",
       "      <td>[-0.8508955836296082, -0.3548078238964081, -0....</td>\n",
       "    </tr>\n",
       "    <tr>\n",
       "      <th>1</th>\n",
       "      <td>0</td>\n",
       "      <td>Typo in /debian/README</td>\n",
       "      <td>debian-mirrors@lists.debian.org</td>\n",
       "      <td>Yan Morin &lt;yan.morin@savoirfairelinux.com&gt;</td>\n",
       "      <td>[-0.7363540530204773, -0.4528566002845764, -0....</td>\n",
       "    </tr>\n",
       "    <tr>\n",
       "      <th>2</th>\n",
       "      <td>1</td>\n",
       "      <td>authentic viagra</td>\n",
       "      <td>&lt;the00@plg.uwaterloo.ca&gt;</td>\n",
       "      <td>\"Sheila Crenshaw\" &lt;7stocknews@tractionmarketin...</td>\n",
       "      <td>[-0.8038183450698853, -0.551634669303894, -0.9...</td>\n",
       "    </tr>\n",
       "    <tr>\n",
       "      <th>3</th>\n",
       "      <td>1</td>\n",
       "      <td>Nice talking with ya</td>\n",
       "      <td>opt4@speedy.uwaterloo.ca</td>\n",
       "      <td>\"Stormy Dempsey\" &lt;vqucsmdfgvsg@ruraltek.com&gt;</td>\n",
       "      <td>[-0.8466466665267944, -0.536900520324707, -0.8...</td>\n",
       "    </tr>\n",
       "    <tr>\n",
       "      <th>4</th>\n",
       "      <td>1</td>\n",
       "      <td>or trembling; stomach cramps; trouble in sleep...</td>\n",
       "      <td>ktwarwic@speedy.uwaterloo.ca</td>\n",
       "      <td>\"Christi T. Jernigan\" &lt;dcube@totalink.net&gt;</td>\n",
       "      <td>[-0.5881412029266357, -0.4939061105251312, -0....</td>\n",
       "    </tr>\n",
       "  </tbody>\n",
       "</table>\n",
       "</div>"
      ],
      "text/plain": [
       "   label                                            subject  \\\n",
       "0      1                  Generic Cialis, branded quality@    \n",
       "1      0                             Typo in /debian/README   \n",
       "2      1                                   authentic viagra   \n",
       "3      1                               Nice talking with ya   \n",
       "4      1  or trembling; stomach cramps; trouble in sleep...   \n",
       "\n",
       "                          email_to  \\\n",
       "0        the00@speedy.uwaterloo.ca   \n",
       "1  debian-mirrors@lists.debian.org   \n",
       "2         <the00@plg.uwaterloo.ca>   \n",
       "3         opt4@speedy.uwaterloo.ca   \n",
       "4     ktwarwic@speedy.uwaterloo.ca   \n",
       "\n",
       "                                          email_from  \\\n",
       "0                 \"Tomas Jacobs\" <RickyAmes@aol.com>   \n",
       "1         Yan Morin <yan.morin@savoirfairelinux.com>   \n",
       "2  \"Sheila Crenshaw\" <7stocknews@tractionmarketin...   \n",
       "3       \"Stormy Dempsey\" <vqucsmdfgvsg@ruraltek.com>   \n",
       "4         \"Christi T. Jernigan\" <dcube@totalink.net>   \n",
       "\n",
       "                                           embedding  \n",
       "0  [-0.8508955836296082, -0.3548078238964081, -0....  \n",
       "1  [-0.7363540530204773, -0.4528566002845764, -0....  \n",
       "2  [-0.8038183450698853, -0.551634669303894, -0.9...  \n",
       "3  [-0.8466466665267944, -0.536900520324707, -0.8...  \n",
       "4  [-0.5881412029266357, -0.4939061105251312, -0....  "
      ]
     },
     "execution_count": 37,
     "metadata": {},
     "output_type": "execute_result"
    }
   ],
   "source": [
    "df.head(5)"
   ]
  },
  {
   "cell_type": "code",
   "execution_count": 38,
   "metadata": {},
   "outputs": [],
   "source": [
    "bert_columns = []\n",
    "for i in range(1, 768+1):\n",
    "    column = 'bert' + str(i)\n",
    "    bert_columns.append(column)"
   ]
  },
  {
   "cell_type": "code",
   "execution_count": 42,
   "metadata": {},
   "outputs": [],
   "source": [
    "bert_df = df['embedding'].apply(pd.Series)\n",
    "bert_df.columns = bert_columns\n",
    "bert_labels = df['label']"
   ]
  },
  {
   "cell_type": "code",
   "execution_count": 40,
   "metadata": {},
   "outputs": [
    {
     "data": {
      "text/plain": [
       "label\n",
       "1    50199\n",
       "0    25220\n",
       "Name: count, dtype: int64"
      ]
     },
     "execution_count": 40,
     "metadata": {},
     "output_type": "execute_result"
    }
   ],
   "source": [
    "bert_df['label'].value_counts()"
   ]
  },
  {
   "cell_type": "code",
   "execution_count": 51,
   "metadata": {},
   "outputs": [],
   "source": [
    "undersample = RandomUnderSampler(sampling_strategy='auto', random_state=42)\n",
    "X_bert_balanced, y_bert_balanced = undersample.fit_resample(bert_df, bert_labels)"
   ]
  },
  {
   "cell_type": "code",
   "execution_count": 52,
   "metadata": {},
   "outputs": [
    {
     "data": {
      "text/plain": [
       "label\n",
       "0        25220\n",
       "1        25220\n",
       "Name: count, dtype: int64"
      ]
     },
     "execution_count": 52,
     "metadata": {},
     "output_type": "execute_result"
    }
   ],
   "source": [
    "y_bert_balanced = pd.DataFrame(y_bert_balanced)\n",
    "y_bert_balanced.value_counts()"
   ]
  },
  {
   "cell_type": "code",
   "execution_count": 53,
   "metadata": {},
   "outputs": [],
   "source": [
    "bert_balanced_df = pd.concat([X_bert_balanced, y_bert_balanced], axis=1)"
   ]
  },
  {
   "cell_type": "code",
   "execution_count": 57,
   "metadata": {},
   "outputs": [],
   "source": [
    "bert_balanced_df.to_parquet('data/bert_embeddings_balanced.parquet')"
   ]
  },
  {
   "cell_type": "code",
   "execution_count": null,
   "metadata": {},
   "outputs": [],
   "source": []
  }
 ],
 "metadata": {
  "kernelspec": {
   "display_name": "torch2",
   "language": "python",
   "name": "python3"
  },
  "language_info": {
   "codemirror_mode": {
    "name": "ipython",
    "version": 3
   },
   "file_extension": ".py",
   "mimetype": "text/x-python",
   "name": "python",
   "nbconvert_exporter": "python",
   "pygments_lexer": "ipython3",
   "version": "3.10.14"
  }
 },
 "nbformat": 4,
 "nbformat_minor": 2
}
